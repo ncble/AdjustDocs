{
 "cells": [
  {
   "cell_type": "code",
   "execution_count": 1,
   "metadata": {},
   "outputs": [],
   "source": [
    "import os, sys, glob\n",
    "import numpy as np\n",
    "import cv2\n",
    "import matplotlib.pyplot as plt\n",
    "%matplotlib inline\n",
    "\n",
    "\n",
    "from ipywidgets import interact, interactive\n",
    "import ipywidgets as widgets"
   ]
  },
  {
   "cell_type": "code",
   "execution_count": 3,
   "metadata": {},
   "outputs": [],
   "source": [
    "# dirpath = \"../data/preprocessed/handwritten\"\n",
    "# dirpath = \"../data/preprocessed/test_handwritten\"\n",
    "# dirpath = \"../data/data11_valid\"\n",
    "\n",
    "# X = np.load(os.path.join(dirpath, \"augmented_X.npy\"))\n",
    "# Y = np.load(os.path.join(dirpath, \"augmented_Y.npy\"))\n",
    "# X = np.load(os.path.join(dirpath, \"X.npy\"))\n",
    "# Y = np.load(os.path.join(dirpath, \"Y.npy\"))\n",
    "\n",
    "# X = X[...,::-1]\n",
    "# X = X.astype(\"uint8\")\n",
    "\n",
    "\n",
    "### OTC\n",
    "X = np.load(\"../inference/data_deploy/X_copy/1/X_ori.npy\")\n",
    "Y = np.load(\"../inference/data_deploy/X_copy/1/I.npy\")\n",
    "X = X[...,::-1]\n",
    "X = X.astype(\"uint8\")"
   ]
  },
  {
   "cell_type": "code",
   "execution_count": 6,
   "metadata": {},
   "outputs": [
    {
     "name": "stdout",
     "output_type": "stream",
     "text": [
      "(14, 800, 566, 3)\n",
      "255\n",
      "0\n",
      "(14,)\n",
      "[60 48 60 60 66 40 50 60 28 48 30  9 34 48]\n"
     ]
    }
   ],
   "source": [
    "print(X.shape)\n",
    "print(np.max(X))\n",
    "print(np.min(X))\n",
    "# Y.shape\n",
    "print(Y.shape)\n",
    "print(Y)"
   ]
  },
  {
   "cell_type": "code",
   "execution_count": null,
   "metadata": {},
   "outputs": [],
   "source": []
  },
  {
   "cell_type": "code",
   "execution_count": 7,
   "metadata": {},
   "outputs": [],
   "source": [
    "COLORS = ['viridis'] + sorted(m for m in plt.cm.datad if not m.endswith(\"_r\"))\n",
    "def show_imgs(i, **kwargs):\n",
    "    \"\"\"\n",
    "    Take tensor .npy as input\n",
    "    \"\"\"\n",
    "    global X\n",
    "    global Y\n",
    "#     f, axes = plt.subplots(1,2, figsize=(15, 15))\n",
    "#     axes[0].axis(\"off\")\n",
    "#     axes[0].set_title(\"Rotation index {}\".format(Y[i]))\n",
    "#     axes[0].imshow(X[i])\n",
    "    plt.figure(figsize=(15,15))\n",
    "    plt.imshow(X[i])\n",
    "    plt.title(\"Rotation index {}\".format(Y[i]))\n",
    "    plt.show()\n",
    "    "
   ]
  },
  {
   "cell_type": "code",
   "execution_count": 8,
   "metadata": {},
   "outputs": [
    {
     "data": {
      "application/vnd.jupyter.widget-view+json": {
       "model_id": "4671db9fd8da40fc8d1a80e274be0b88",
       "version_major": 2,
       "version_minor": 0
      },
      "text/plain": [
       "interactive(children=(IntSlider(value=7, description='i', max=14), Output()), _dom_classes=('widget-interact',…"
      ]
     },
     "metadata": {},
     "output_type": "display_data"
    },
    {
     "data": {
      "text/plain": [
       "<function __main__.show_imgs(i, **kwargs)>"
      ]
     },
     "execution_count": 8,
     "metadata": {},
     "output_type": "execute_result"
    },
    {
     "data": {
      "text/plain": [
       "<Figure size 1080x1080 with 0 Axes>"
      ]
     },
     "metadata": {},
     "output_type": "display_data"
    }
   ],
   "source": [
    "interact(show_imgs,i=(0,len(X)))"
   ]
  },
  {
   "cell_type": "code",
   "execution_count": null,
   "metadata": {},
   "outputs": [],
   "source": []
  }
 ],
 "metadata": {
  "kernelspec": {
   "display_name": "py36",
   "language": "python",
   "name": "py36"
  },
  "language_info": {
   "codemirror_mode": {
    "name": "ipython",
    "version": 3
   },
   "file_extension": ".py",
   "mimetype": "text/x-python",
   "name": "python",
   "nbconvert_exporter": "python",
   "pygments_lexer": "ipython3",
   "version": "3.6.6"
  }
 },
 "nbformat": 4,
 "nbformat_minor": 2
}
